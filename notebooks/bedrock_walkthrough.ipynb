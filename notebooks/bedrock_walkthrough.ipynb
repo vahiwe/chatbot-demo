{
 "cells": [
  {
   "cell_type": "code",
   "execution_count": 11,
   "id": "b0822f31-f043-4d2e-838f-f01001400a54",
   "metadata": {},
   "outputs": [],
   "source": [
    "import json \n",
    "import os\n",
    "import sys\n",
    "import boto3"
   ]
  },
  {
   "cell_type": "code",
   "execution_count": 12,
   "id": "efcf7948-5025-4c4d-a30a-589953fa4e19",
   "metadata": {},
   "outputs": [],
   "source": [
    "boto3_bedrock = boto3.client('bedrock')"
   ]
  },
  {
   "cell_type": "code",
   "execution_count": 13,
   "id": "1d6084e9-14fc-4cb3-acb6-e3142c96c221",
   "metadata": {},
   "outputs": [],
   "source": [
    "bedrock_runtime = boto3.client('bedrock-runtime')"
   ]
  },
  {
   "cell_type": "code",
   "execution_count": 21,
   "id": "fb783ca6-fc29-4da0-a70a-37231698f7ba",
   "metadata": {},
   "outputs": [],
   "source": [
    "# If you'd like to try your own prompt, edit this parameter!\n",
    "prompt_data = \"\"\"Command: Write me a short poem about an AWS DevOps Engineer going about his daily routine.\n",
    "Poem:\n",
    "\"\"\""
   ]
  },
  {
   "cell_type": "code",
   "execution_count": 22,
   "id": "8ad7bc53-c7f4-40bd-a7c2-bf1d8ae219eb",
   "metadata": {},
   "outputs": [],
   "source": [
    "# Amazon Titan parameters\n",
    "body = json.dumps(\n",
    "\t{\"inputText\": prompt_data, \n",
    "\t\"textGenerationConfig\" : {\"topP\":0.95, \"temperature\":0.2}}\n",
    ")\n",
    "modelId = \"amazon.titan-tg1-large\" \n",
    "accept = \"application/json\"\n",
    "contentType = \"application/json\"\n",
    "\n",
    "titan_response = bedrock_runtime.invoke_model(\n",
    "    body=body, \n",
    "    modelId=modelId, \n",
    "    accept=accept, \n",
    "    contentType=contentType\n",
    ")"
   ]
  },
  {
   "cell_type": "code",
   "execution_count": 23,
   "id": "7c40ee25-aced-44ca-9626-238b553ed124",
   "metadata": {},
   "outputs": [],
   "source": [
    "# Claude parameters\n",
    "native_request = {\n",
    "    \"anthropic_version\": \"bedrock-2023-05-31\",\n",
    "    \"max_tokens\": 512,\n",
    "    \"temperature\": 0.5,\n",
    "    \"messages\": [\n",
    "        {\n",
    "            \"role\": \"user\",\n",
    "            \"content\": [{\"type\": \"text\", \"text\": prompt_data}],\n",
    "        }\n",
    "    ],\n",
    "}\n",
    "body = json.dumps(native_request)\n",
    "modelId = \"anthropic.claude-3-sonnet-20240229-v1:0\"  # change this to use another version from the model provider\n",
    "accept = \"application/json\"\n",
    "contentType = \"application/json\"\n",
    "\n",
    "claude_response = bedrock_runtime.invoke_model(\n",
    "    body=body, \n",
    "    modelId=modelId, \n",
    "    accept=accept, \n",
    "    contentType=contentType\n",
    ")"
   ]
  },
  {
   "cell_type": "code",
   "execution_count": 24,
   "id": "d914d4e9-64ed-4fac-b882-d62ef19b04db",
   "metadata": {},
   "outputs": [
    {
     "name": "stdout",
     "output_type": "stream",
     "text": [
      "The AWS DevOps Engineer wakes up early,\n",
      "To start his day with a cup of coffee.\n",
      "He checks his emails and updates his tasks,\n",
      "And starts coding with his team.\n",
      "\n",
      "He works on the infrastructure and deployment,\n",
      "And ensures that everything is up to date.\n",
      "He monitors the system and detects any issues,\n",
      "And fixes them before they become a problem.\n",
      "\n",
      "He works with the developers to ensure that their code is high quality,\n",
      "And that it meets the requirements of the client.\n",
      "He also works with the operations team to ensure that the system is running smoothly,\n",
      "And that any issues are resolved quickly\n"
     ]
    }
   ],
   "source": [
    "titan_response_body = json.loads(titan_response.get(\"body\").read())\n",
    "print(titan_response_body.get(\"results\")[0].get(\"outputText\"))"
   ]
  },
  {
   "cell_type": "code",
   "execution_count": 25,
   "id": "ac7c823b-7413-4357-8eda-cec4203e015e",
   "metadata": {},
   "outputs": [
    {
     "name": "stdout",
     "output_type": "stream",
     "text": [
      "Here's a short poem about an AWS DevOps Engineer going about his daily routine:\n",
      "\n",
      "Amidst the clouds, he reigns supreme,\n",
      "Weaving code, a digital dream.\n",
      "From dawn's first light to midnight's hush,\n",
      "His keyboard dances, a rhythmic rush.\n",
      "\n",
      "Infrastructure as Code, his mantra true,\n",
      "Automating tasks, a seamless brew.\n",
      "Monitoring systems, a watchful eye,\n",
      "Ensuring uptime, no downtime to sigh.\n",
      "\n",
      "Continuous Integration, Continuous Deployment,\n",
      "A cycle of excellence, his sole employment.\n",
      "Scaling resources, a deft command,\n",
      "Optimizing costs, with a steady hand.\n",
      "\n",
      "AWS DevOps Engineer, a modern-day bard,\n",
      "Crafting solutions, his skills well-guarded.\n",
      "In this digital realm, he stands tall,\n",
      "Mastering the cloud, answering its call.\n"
     ]
    }
   ],
   "source": [
    "claude_response_body = json.loads(claude_response.get(\"body\").read())\n",
    "print(claude_response_body.get(\"content\")[0].get(\"text\"))"
   ]
  },
  {
   "cell_type": "code",
   "execution_count": null,
   "id": "27d07ad9-e7e0-4a71-ac55-dd823c33f0ac",
   "metadata": {},
   "outputs": [],
   "source": []
  }
 ],
 "metadata": {
  "kernelspec": {
   "display_name": "Python 3 (ipykernel)",
   "language": "python",
   "name": "python3"
  },
  "language_info": {
   "codemirror_mode": {
    "name": "ipython",
    "version": 3
   },
   "file_extension": ".py",
   "mimetype": "text/x-python",
   "name": "python",
   "nbconvert_exporter": "python",
   "pygments_lexer": "ipython3",
   "version": "3.11.10"
  }
 },
 "nbformat": 4,
 "nbformat_minor": 5
}
